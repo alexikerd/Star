{
 "cells": [
  {
   "cell_type": "code",
   "execution_count": 56,
   "metadata": {},
   "outputs": [],
   "source": [
    "import tensorflow as tf\n",
    "import numpy as np\n",
    "import pandas as pd\n",
    "import sklearn as sk\n",
    "import matplotlib.pyplot as plt\n",
    "from keras.models import Sequential\n",
    "from keras.layers import Dense\n",
    "from keras.wrappers.scikit_learn import KerasClassifier\n",
    "from sklearn.model_selection import cross_val_score\n",
    "from sklearn.preprocessing import LabelEncoder\n",
    "from sklearn.model_selection import StratifiedKFold\n",
    "from sklearn.preprocessing import StandardScaler\n",
    "from sklearn.pipeline import Pipeline\n",
    "from sklearn.model_selection import train_test_split\n",
    "from sklearn.metrics import classification_report\n",
    "star = pd.read_csv('pulsar_stars.csv')"
   ]
  },
  {
   "cell_type": "code",
   "execution_count": 7,
   "metadata": {},
   "outputs": [],
   "source": [
    "seed = 7\n",
    "np.random.seed(seed)"
   ]
  },
  {
   "cell_type": "code",
   "execution_count": 47,
   "metadata": {},
   "outputs": [
    {
     "data": {
      "text/plain": [
       "{0: 0.09157447759526204, 1: 0.908425522404738}"
      ]
     },
     "execution_count": 47,
     "metadata": {},
     "output_type": "execute_result"
    }
   ],
   "source": [
    "from sklearn.utils import shuffle\n",
    "star = shuffle(star)\n",
    "x = star.iloc[:,:8]\n",
    "y = star['target_class']\n",
    "class_weight = {0: star[star['target_class']==1].shape[0]/star.shape[0], 1: star[star['target_class']==0].shape[0]/star.shape[0]}\n",
    "class_weight"
   ]
  },
  {
   "cell_type": "code",
   "execution_count": 52,
   "metadata": {},
   "outputs": [],
   "source": [
    "model = Sequential()\n",
    "model.add(Dense(8, input_dim=8, kernel_initializer='normal', activation='relu'))\n",
    "model.add(Dense(8, input_dim=8, kernel_initializer='normal', activation='relu'))\n",
    "model.add(Dense(1, kernel_initializer='normal', activation='sigmoid'))\n",
    "model.compile(loss='binary_crossentropy', optimizer='adam', metrics=['accuracy'])"
   ]
  },
  {
   "cell_type": "code",
   "execution_count": 53,
   "metadata": {},
   "outputs": [
    {
     "name": "stdout",
     "output_type": "stream",
     "text": [
      "Epoch 1/10\n",
      "10738/10738 [==============================] - 1s 71us/step - loss: 0.0633 - acc: 0.8595\n",
      "Epoch 2/10\n",
      "10738/10738 [==============================] - 0s 18us/step - loss: 0.0383 - acc: 0.9510\n",
      "Epoch 3/10\n",
      "10738/10738 [==============================] - 0s 17us/step - loss: 0.0362 - acc: 0.9450\n",
      "Epoch 4/10\n",
      "10738/10738 [==============================] - 0s 17us/step - loss: 0.0359 - acc: 0.9488\n",
      "Epoch 5/10\n",
      "10738/10738 [==============================] - 0s 17us/step - loss: 0.0359 - acc: 0.9479\n",
      "Epoch 6/10\n",
      "10738/10738 [==============================] - 0s 17us/step - loss: 0.0358 - acc: 0.9461\n",
      "Epoch 7/10\n",
      "10738/10738 [==============================] - 0s 17us/step - loss: 0.0352 - acc: 0.9483\n",
      "Epoch 8/10\n",
      "10738/10738 [==============================] - 0s 17us/step - loss: 0.0357 - acc: 0.9505\n",
      "Epoch 9/10\n",
      "10738/10738 [==============================] - 0s 17us/step - loss: 0.0351 - acc: 0.9510\n",
      "Epoch 10/10\n",
      "10738/10738 [==============================] - 0s 17us/step - loss: 0.0356 - acc: 0.9521\n"
     ]
    },
    {
     "data": {
      "text/plain": [
       "<keras.callbacks.History at 0x1927ba2d518>"
      ]
     },
     "execution_count": 53,
     "metadata": {},
     "output_type": "execute_result"
    }
   ],
   "source": [
    "#estimator = KerasClassifier(build_fn=create_baseline, epochs=100, batch_size=5, verbose=0)\n",
    "#kfold = StratifiedKFold(n_splits=10, shuffle=True, random_state=seed)\n",
    "#results = cross_val_score(estimator, x, y, cv=kfold)\n",
    "X_train, X_test, y_train, y_test = train_test_split(x, y, test_size=0.4, random_state=164)\n",
    "model.fit(X_train, y_train, epochs=10, batch_size=32, class_weight=class_weight)"
   ]
  },
  {
   "cell_type": "code",
   "execution_count": 65,
   "metadata": {},
   "outputs": [
    {
     "name": "stdout",
     "output_type": "stream",
     "text": [
      "7160/7160 [==============================] - 0s 3us/step\n"
     ]
    },
    {
     "data": {
      "text/plain": [
       "[0.16127291290120704, 0.9603351951977395]"
      ]
     },
     "execution_count": 65,
     "metadata": {},
     "output_type": "execute_result"
    }
   ],
   "source": [
    "model.evaluate(X_test, y_test, batch_size=128)"
   ]
  }
 ],
 "metadata": {
  "kernelspec": {
   "display_name": "Python 3",
   "language": "python",
   "name": "python3"
  },
  "language_info": {
   "codemirror_mode": {
    "name": "ipython",
    "version": 3
   },
   "file_extension": ".py",
   "mimetype": "text/x-python",
   "name": "python",
   "nbconvert_exporter": "python",
   "pygments_lexer": "ipython3",
   "version": "3.7.1"
  }
 },
 "nbformat": 4,
 "nbformat_minor": 2
}
